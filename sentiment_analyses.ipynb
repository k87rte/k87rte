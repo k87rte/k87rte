{
  "nbformat": 4,
  "nbformat_minor": 0,
  "metadata": {
    "colab": {
      "provenance": [],
      "authorship_tag": "ABX9TyP2UEdiKEHjPFtei6JFWcUx",
      "include_colab_link": true
    },
    "kernelspec": {
      "name": "python3",
      "display_name": "Python 3"
    },
    "language_info": {
      "name": "python"
    }
  },
  "cells": [
    {
      "cell_type": "markdown",
      "metadata": {
        "id": "view-in-github",
        "colab_type": "text"
      },
      "source": [
        "<a href=\"https://colab.research.google.com/github/k87rte/k87rte/blob/main/sentiment_analyses.ipynb\" target=\"_parent\"><img src=\"https://colab.research.google.com/assets/colab-badge.svg\" alt=\"Open In Colab\"/></a>"
      ]
    },
    {
      "cell_type": "markdown",
      "source": [
        "# All about the data\n"
      ],
      "metadata": {
        "id": "Yls_AIRG40xU"
      }
    },
    {
      "cell_type": "markdown",
      "source": [
        "The data was downloaded from kaggle.com\n",
        "But, what does the data represent? It represents the setiments (positive or negative), based on sentences ('I feel good today'). In this section, data from 3 different sources, will be at first read using **pandas.read_csv**, and later cleaned using an in-house function, **str_num_separator**.\n"
      ],
      "metadata": {
        "id": "0oPyB1aB5DD5"
      }
    },
    {
      "cell_type": "markdown",
      "source": [
        "## Reading data"
      ],
      "metadata": {
        "id": "D2gTru49mkhU"
      }
    },
    {
      "cell_type": "markdown",
      "source": [
        "Read data, which are sentences and their corresponding sentiment. The data is from amazon, imdb, and yelp."
      ],
      "metadata": {
        "id": "HSogxDDymu8e"
      }
    },
    {
      "cell_type": "code",
      "source": [
        "import pandas as pd\n",
        "\n",
        "amazon_labelled = 'amazon_cells_labelled.csv'\n",
        "amazon_df = pd.read_csv(amazon_labelled, header=None)\n",
        "imdb_labelled = 'imdb_labelled.csv'\n",
        "imdb_df = pd.read_csv(imdb_labelled, header=None)\n",
        "yelp_labelled = 'yelp_labelled.csv'\n",
        "yelp_df = pd.read_csv(yelp_labelled, header=None)"
      ],
      "metadata": {
        "id": "ZBciLJdu6Gkt"
      },
      "execution_count": 65,
      "outputs": []
    },
    {
      "cell_type": "markdown",
      "source": [
        "## Function to represent the data"
      ],
      "metadata": {
        "id": "mRjAeJZKm6rh"
      }
    },
    {
      "cell_type": "markdown",
      "source": [
        "I have noticed that pd.read_csv wont really work fine here. Why? Because the strings also have ',', for example 'what do you think about this, and that?'. So, creataed a function to represent the data like we intend to."
      ],
      "metadata": {
        "id": "ae6Lcr7tm-lh"
      }
    },
    {
      "cell_type": "code",
      "source": [
        "def str_num_separator(current_loc):\n",
        "    current_loc = current_loc.dropna()\n",
        "    str = ''\n",
        "    num = []\n",
        "    for i in range(current_loc.shape[0]):\n",
        "        if current_loc.iloc[i].isdigit() == False:\n",
        "            str=str+current_loc.iloc[i]\n",
        "        if current_loc.iloc[i].isdigit() == True:\n",
        "            num.append(int(current_loc.iloc[i]))\n",
        "    return str, num"
      ],
      "metadata": {
        "id": "lDWDLiZ174mf"
      },
      "execution_count": 66,
      "outputs": []
    },
    {
      "cell_type": "markdown",
      "source": [
        "## View the data"
      ],
      "metadata": {
        "id": "hMg5QLbqnQPc"
      }
    },
    {
      "cell_type": "code",
      "source": [
        "# amazon data\n",
        "sentence=[]\n",
        "sentiment=[]\n",
        "for i in range(amazon_df.shape[0]):\n",
        "    try:\n",
        "        str, num = str_num_separator(amazon_df.loc[i])\n",
        "        sentence.append(str)\n",
        "        sentiment.append(num)\n",
        "    except AttributeError:\n",
        "        print(f'not possible for row num: {i}')\n",
        "amazon_filtered_df = pd.concat([pd.DataFrame(sentence), pd.DataFrame(sentiment)], axis=1)\n",
        "amazon_filtered_df.columns = ['sentence','sentiment']\n",
        "amazon_filtered_df.head()"
      ],
      "metadata": {
        "colab": {
          "base_uri": "https://localhost:8080/",
          "height": 278
        },
        "id": "u_Kijng176m0",
        "outputId": "9381da01-ecbe-4929-a464-147967f8d09c"
      },
      "execution_count": 67,
      "outputs": [
        {
          "output_type": "stream",
          "name": "stdout",
          "text": [
            "not possible for row num: 545\n",
            "not possible for row num: 717\n",
            "not possible for row num: 821\n",
            "not possible for row num: 864\n"
          ]
        },
        {
          "output_type": "execute_result",
          "data": {
            "text/plain": [
              "                                            sentence  sentiment\n",
              "0  So there is no way for me to plug it in here i...          0\n",
              "1                         Good case Excellent value.          1\n",
              "2                             Great for the jawbone.          1\n",
              "3  Tied to charger for conversations lasting more...          0\n",
              "4                                  The mic is great.          1"
            ],
            "text/html": [
              "\n",
              "  <div id=\"df-8e66937f-f188-4ce1-8bfb-5d021c13cc41\">\n",
              "    <div class=\"colab-df-container\">\n",
              "      <div>\n",
              "<style scoped>\n",
              "    .dataframe tbody tr th:only-of-type {\n",
              "        vertical-align: middle;\n",
              "    }\n",
              "\n",
              "    .dataframe tbody tr th {\n",
              "        vertical-align: top;\n",
              "    }\n",
              "\n",
              "    .dataframe thead th {\n",
              "        text-align: right;\n",
              "    }\n",
              "</style>\n",
              "<table border=\"1\" class=\"dataframe\">\n",
              "  <thead>\n",
              "    <tr style=\"text-align: right;\">\n",
              "      <th></th>\n",
              "      <th>sentence</th>\n",
              "      <th>sentiment</th>\n",
              "    </tr>\n",
              "  </thead>\n",
              "  <tbody>\n",
              "    <tr>\n",
              "      <th>0</th>\n",
              "      <td>So there is no way for me to plug it in here i...</td>\n",
              "      <td>0</td>\n",
              "    </tr>\n",
              "    <tr>\n",
              "      <th>1</th>\n",
              "      <td>Good case Excellent value.</td>\n",
              "      <td>1</td>\n",
              "    </tr>\n",
              "    <tr>\n",
              "      <th>2</th>\n",
              "      <td>Great for the jawbone.</td>\n",
              "      <td>1</td>\n",
              "    </tr>\n",
              "    <tr>\n",
              "      <th>3</th>\n",
              "      <td>Tied to charger for conversations lasting more...</td>\n",
              "      <td>0</td>\n",
              "    </tr>\n",
              "    <tr>\n",
              "      <th>4</th>\n",
              "      <td>The mic is great.</td>\n",
              "      <td>1</td>\n",
              "    </tr>\n",
              "  </tbody>\n",
              "</table>\n",
              "</div>\n",
              "      <button class=\"colab-df-convert\" onclick=\"convertToInteractive('df-8e66937f-f188-4ce1-8bfb-5d021c13cc41')\"\n",
              "              title=\"Convert this dataframe to an interactive table.\"\n",
              "              style=\"display:none;\">\n",
              "        \n",
              "  <svg xmlns=\"http://www.w3.org/2000/svg\" height=\"24px\"viewBox=\"0 0 24 24\"\n",
              "       width=\"24px\">\n",
              "    <path d=\"M0 0h24v24H0V0z\" fill=\"none\"/>\n",
              "    <path d=\"M18.56 5.44l.94 2.06.94-2.06 2.06-.94-2.06-.94-.94-2.06-.94 2.06-2.06.94zm-11 1L8.5 8.5l.94-2.06 2.06-.94-2.06-.94L8.5 2.5l-.94 2.06-2.06.94zm10 10l.94 2.06.94-2.06 2.06-.94-2.06-.94-.94-2.06-.94 2.06-2.06.94z\"/><path d=\"M17.41 7.96l-1.37-1.37c-.4-.4-.92-.59-1.43-.59-.52 0-1.04.2-1.43.59L10.3 9.45l-7.72 7.72c-.78.78-.78 2.05 0 2.83L4 21.41c.39.39.9.59 1.41.59.51 0 1.02-.2 1.41-.59l7.78-7.78 2.81-2.81c.8-.78.8-2.07 0-2.86zM5.41 20L4 18.59l7.72-7.72 1.47 1.35L5.41 20z\"/>\n",
              "  </svg>\n",
              "      </button>\n",
              "      \n",
              "  <style>\n",
              "    .colab-df-container {\n",
              "      display:flex;\n",
              "      flex-wrap:wrap;\n",
              "      gap: 12px;\n",
              "    }\n",
              "\n",
              "    .colab-df-convert {\n",
              "      background-color: #E8F0FE;\n",
              "      border: none;\n",
              "      border-radius: 50%;\n",
              "      cursor: pointer;\n",
              "      display: none;\n",
              "      fill: #1967D2;\n",
              "      height: 32px;\n",
              "      padding: 0 0 0 0;\n",
              "      width: 32px;\n",
              "    }\n",
              "\n",
              "    .colab-df-convert:hover {\n",
              "      background-color: #E2EBFA;\n",
              "      box-shadow: 0px 1px 2px rgba(60, 64, 67, 0.3), 0px 1px 3px 1px rgba(60, 64, 67, 0.15);\n",
              "      fill: #174EA6;\n",
              "    }\n",
              "\n",
              "    [theme=dark] .colab-df-convert {\n",
              "      background-color: #3B4455;\n",
              "      fill: #D2E3FC;\n",
              "    }\n",
              "\n",
              "    [theme=dark] .colab-df-convert:hover {\n",
              "      background-color: #434B5C;\n",
              "      box-shadow: 0px 1px 3px 1px rgba(0, 0, 0, 0.15);\n",
              "      filter: drop-shadow(0px 1px 2px rgba(0, 0, 0, 0.3));\n",
              "      fill: #FFFFFF;\n",
              "    }\n",
              "  </style>\n",
              "\n",
              "      <script>\n",
              "        const buttonEl =\n",
              "          document.querySelector('#df-8e66937f-f188-4ce1-8bfb-5d021c13cc41 button.colab-df-convert');\n",
              "        buttonEl.style.display =\n",
              "          google.colab.kernel.accessAllowed ? 'block' : 'none';\n",
              "\n",
              "        async function convertToInteractive(key) {\n",
              "          const element = document.querySelector('#df-8e66937f-f188-4ce1-8bfb-5d021c13cc41');\n",
              "          const dataTable =\n",
              "            await google.colab.kernel.invokeFunction('convertToInteractive',\n",
              "                                                     [key], {});\n",
              "          if (!dataTable) return;\n",
              "\n",
              "          const docLinkHtml = 'Like what you see? Visit the ' +\n",
              "            '<a target=\"_blank\" href=https://colab.research.google.com/notebooks/data_table.ipynb>data table notebook</a>'\n",
              "            + ' to learn more about interactive tables.';\n",
              "          element.innerHTML = '';\n",
              "          dataTable['output_type'] = 'display_data';\n",
              "          await google.colab.output.renderOutput(dataTable, element);\n",
              "          const docLink = document.createElement('div');\n",
              "          docLink.innerHTML = docLinkHtml;\n",
              "          element.appendChild(docLink);\n",
              "        }\n",
              "      </script>\n",
              "    </div>\n",
              "  </div>\n",
              "  "
            ]
          },
          "metadata": {},
          "execution_count": 67
        }
      ]
    },
    {
      "cell_type": "code",
      "source": [
        "# imbd data\n",
        "sentence=[]\n",
        "sentiment=[]\n",
        "for i in range(imdb_df.shape[0]):\n",
        "    try:\n",
        "        str, num = str_num_separator(imdb_df.loc[i])\n",
        "        sentence.append(str)\n",
        "        sentiment.append(num)\n",
        "    except AttributeError:\n",
        "        print(f'not possible for row num: {i}')\n",
        "imdb_filtered_df = pd.concat([pd.DataFrame(sentence), pd.DataFrame(sentiment)], axis=1)\n",
        "imdb_filtered_df.columns = ['sentence','sentiment']\n",
        "imdb_filtered_df.head()"
      ],
      "metadata": {
        "colab": {
          "base_uri": "https://localhost:8080/",
          "height": 224
        },
        "id": "GRtMYxgu7_au",
        "outputId": "90b664e6-d4c3-495c-dde5-13d5e5132ea5"
      },
      "execution_count": 68,
      "outputs": [
        {
          "output_type": "stream",
          "name": "stdout",
          "text": [
            "not possible for row num: 17\n"
          ]
        },
        {
          "output_type": "execute_result",
          "data": {
            "text/plain": [
              "                                            sentence  sentiment\n",
              "0  A very very very slow-moving aimless movie abo...        0.0\n",
              "1  Not sure who was more lost - the flat characte...        0.0\n",
              "2  Attempting artiness with black & white and cle...        0.0\n",
              "3       Very little music or anything to speak of.          0.0\n",
              "4  The best scene in the movie was when Gerardo i...        1.0"
            ],
            "text/html": [
              "\n",
              "  <div id=\"df-babdb040-f438-4b81-8a38-9c8bd1639985\">\n",
              "    <div class=\"colab-df-container\">\n",
              "      <div>\n",
              "<style scoped>\n",
              "    .dataframe tbody tr th:only-of-type {\n",
              "        vertical-align: middle;\n",
              "    }\n",
              "\n",
              "    .dataframe tbody tr th {\n",
              "        vertical-align: top;\n",
              "    }\n",
              "\n",
              "    .dataframe thead th {\n",
              "        text-align: right;\n",
              "    }\n",
              "</style>\n",
              "<table border=\"1\" class=\"dataframe\">\n",
              "  <thead>\n",
              "    <tr style=\"text-align: right;\">\n",
              "      <th></th>\n",
              "      <th>sentence</th>\n",
              "      <th>sentiment</th>\n",
              "    </tr>\n",
              "  </thead>\n",
              "  <tbody>\n",
              "    <tr>\n",
              "      <th>0</th>\n",
              "      <td>A very very very slow-moving aimless movie abo...</td>\n",
              "      <td>0.0</td>\n",
              "    </tr>\n",
              "    <tr>\n",
              "      <th>1</th>\n",
              "      <td>Not sure who was more lost - the flat characte...</td>\n",
              "      <td>0.0</td>\n",
              "    </tr>\n",
              "    <tr>\n",
              "      <th>2</th>\n",
              "      <td>Attempting artiness with black &amp; white and cle...</td>\n",
              "      <td>0.0</td>\n",
              "    </tr>\n",
              "    <tr>\n",
              "      <th>3</th>\n",
              "      <td>Very little music or anything to speak of.</td>\n",
              "      <td>0.0</td>\n",
              "    </tr>\n",
              "    <tr>\n",
              "      <th>4</th>\n",
              "      <td>The best scene in the movie was when Gerardo i...</td>\n",
              "      <td>1.0</td>\n",
              "    </tr>\n",
              "  </tbody>\n",
              "</table>\n",
              "</div>\n",
              "      <button class=\"colab-df-convert\" onclick=\"convertToInteractive('df-babdb040-f438-4b81-8a38-9c8bd1639985')\"\n",
              "              title=\"Convert this dataframe to an interactive table.\"\n",
              "              style=\"display:none;\">\n",
              "        \n",
              "  <svg xmlns=\"http://www.w3.org/2000/svg\" height=\"24px\"viewBox=\"0 0 24 24\"\n",
              "       width=\"24px\">\n",
              "    <path d=\"M0 0h24v24H0V0z\" fill=\"none\"/>\n",
              "    <path d=\"M18.56 5.44l.94 2.06.94-2.06 2.06-.94-2.06-.94-.94-2.06-.94 2.06-2.06.94zm-11 1L8.5 8.5l.94-2.06 2.06-.94-2.06-.94L8.5 2.5l-.94 2.06-2.06.94zm10 10l.94 2.06.94-2.06 2.06-.94-2.06-.94-.94-2.06-.94 2.06-2.06.94z\"/><path d=\"M17.41 7.96l-1.37-1.37c-.4-.4-.92-.59-1.43-.59-.52 0-1.04.2-1.43.59L10.3 9.45l-7.72 7.72c-.78.78-.78 2.05 0 2.83L4 21.41c.39.39.9.59 1.41.59.51 0 1.02-.2 1.41-.59l7.78-7.78 2.81-2.81c.8-.78.8-2.07 0-2.86zM5.41 20L4 18.59l7.72-7.72 1.47 1.35L5.41 20z\"/>\n",
              "  </svg>\n",
              "      </button>\n",
              "      \n",
              "  <style>\n",
              "    .colab-df-container {\n",
              "      display:flex;\n",
              "      flex-wrap:wrap;\n",
              "      gap: 12px;\n",
              "    }\n",
              "\n",
              "    .colab-df-convert {\n",
              "      background-color: #E8F0FE;\n",
              "      border: none;\n",
              "      border-radius: 50%;\n",
              "      cursor: pointer;\n",
              "      display: none;\n",
              "      fill: #1967D2;\n",
              "      height: 32px;\n",
              "      padding: 0 0 0 0;\n",
              "      width: 32px;\n",
              "    }\n",
              "\n",
              "    .colab-df-convert:hover {\n",
              "      background-color: #E2EBFA;\n",
              "      box-shadow: 0px 1px 2px rgba(60, 64, 67, 0.3), 0px 1px 3px 1px rgba(60, 64, 67, 0.15);\n",
              "      fill: #174EA6;\n",
              "    }\n",
              "\n",
              "    [theme=dark] .colab-df-convert {\n",
              "      background-color: #3B4455;\n",
              "      fill: #D2E3FC;\n",
              "    }\n",
              "\n",
              "    [theme=dark] .colab-df-convert:hover {\n",
              "      background-color: #434B5C;\n",
              "      box-shadow: 0px 1px 3px 1px rgba(0, 0, 0, 0.15);\n",
              "      filter: drop-shadow(0px 1px 2px rgba(0, 0, 0, 0.3));\n",
              "      fill: #FFFFFF;\n",
              "    }\n",
              "  </style>\n",
              "\n",
              "      <script>\n",
              "        const buttonEl =\n",
              "          document.querySelector('#df-babdb040-f438-4b81-8a38-9c8bd1639985 button.colab-df-convert');\n",
              "        buttonEl.style.display =\n",
              "          google.colab.kernel.accessAllowed ? 'block' : 'none';\n",
              "\n",
              "        async function convertToInteractive(key) {\n",
              "          const element = document.querySelector('#df-babdb040-f438-4b81-8a38-9c8bd1639985');\n",
              "          const dataTable =\n",
              "            await google.colab.kernel.invokeFunction('convertToInteractive',\n",
              "                                                     [key], {});\n",
              "          if (!dataTable) return;\n",
              "\n",
              "          const docLinkHtml = 'Like what you see? Visit the ' +\n",
              "            '<a target=\"_blank\" href=https://colab.research.google.com/notebooks/data_table.ipynb>data table notebook</a>'\n",
              "            + ' to learn more about interactive tables.';\n",
              "          element.innerHTML = '';\n",
              "          dataTable['output_type'] = 'display_data';\n",
              "          await google.colab.output.renderOutput(dataTable, element);\n",
              "          const docLink = document.createElement('div');\n",
              "          docLink.innerHTML = docLinkHtml;\n",
              "          element.appendChild(docLink);\n",
              "        }\n",
              "      </script>\n",
              "    </div>\n",
              "  </div>\n",
              "  "
            ]
          },
          "metadata": {},
          "execution_count": 68
        }
      ]
    },
    {
      "cell_type": "code",
      "source": [
        "# yelp data\n",
        "sentence=[]\n",
        "sentiment=[]\n",
        "for i in range(yelp_df.shape[0]):\n",
        "    try:\n",
        "        str, num = str_num_separator(yelp_df.loc[i])\n",
        "        sentence.append(str)\n",
        "        sentiment.append(num)\n",
        "    except AttributeError:\n",
        "        print(f'not possible for row num: {i}')\n",
        "yelp_filtered_df = pd.concat([pd.DataFrame(sentence), pd.DataFrame(sentiment)], axis=1)\n",
        "yelp_filtered_df.columns = ['sentence','sentiment']\n",
        "yelp_filtered_df.head()"
      ],
      "metadata": {
        "colab": {
          "base_uri": "https://localhost:8080/",
          "height": 224
        },
        "id": "D65bsLg48E7Q",
        "outputId": "5c066df4-c83b-4821-d5f8-1a2f75ff8266"
      },
      "execution_count": 69,
      "outputs": [
        {
          "output_type": "stream",
          "name": "stdout",
          "text": [
            "not possible for row num: 760\n"
          ]
        },
        {
          "output_type": "execute_result",
          "data": {
            "text/plain": [
              "                                            sentence  sentiment\n",
              "0                           Wow... Loved this place.          1\n",
              "1                                 Crust is not good.          0\n",
              "2          Not tasty and the texture was just nasty.          0\n",
              "3  Stopped by during the late May bank holiday of...          1\n",
              "4  The selection on the menu was great and so wer...          1"
            ],
            "text/html": [
              "\n",
              "  <div id=\"df-1d4a47ea-fee9-4f32-ad9e-0f2c47af42c4\">\n",
              "    <div class=\"colab-df-container\">\n",
              "      <div>\n",
              "<style scoped>\n",
              "    .dataframe tbody tr th:only-of-type {\n",
              "        vertical-align: middle;\n",
              "    }\n",
              "\n",
              "    .dataframe tbody tr th {\n",
              "        vertical-align: top;\n",
              "    }\n",
              "\n",
              "    .dataframe thead th {\n",
              "        text-align: right;\n",
              "    }\n",
              "</style>\n",
              "<table border=\"1\" class=\"dataframe\">\n",
              "  <thead>\n",
              "    <tr style=\"text-align: right;\">\n",
              "      <th></th>\n",
              "      <th>sentence</th>\n",
              "      <th>sentiment</th>\n",
              "    </tr>\n",
              "  </thead>\n",
              "  <tbody>\n",
              "    <tr>\n",
              "      <th>0</th>\n",
              "      <td>Wow... Loved this place.</td>\n",
              "      <td>1</td>\n",
              "    </tr>\n",
              "    <tr>\n",
              "      <th>1</th>\n",
              "      <td>Crust is not good.</td>\n",
              "      <td>0</td>\n",
              "    </tr>\n",
              "    <tr>\n",
              "      <th>2</th>\n",
              "      <td>Not tasty and the texture was just nasty.</td>\n",
              "      <td>0</td>\n",
              "    </tr>\n",
              "    <tr>\n",
              "      <th>3</th>\n",
              "      <td>Stopped by during the late May bank holiday of...</td>\n",
              "      <td>1</td>\n",
              "    </tr>\n",
              "    <tr>\n",
              "      <th>4</th>\n",
              "      <td>The selection on the menu was great and so wer...</td>\n",
              "      <td>1</td>\n",
              "    </tr>\n",
              "  </tbody>\n",
              "</table>\n",
              "</div>\n",
              "      <button class=\"colab-df-convert\" onclick=\"convertToInteractive('df-1d4a47ea-fee9-4f32-ad9e-0f2c47af42c4')\"\n",
              "              title=\"Convert this dataframe to an interactive table.\"\n",
              "              style=\"display:none;\">\n",
              "        \n",
              "  <svg xmlns=\"http://www.w3.org/2000/svg\" height=\"24px\"viewBox=\"0 0 24 24\"\n",
              "       width=\"24px\">\n",
              "    <path d=\"M0 0h24v24H0V0z\" fill=\"none\"/>\n",
              "    <path d=\"M18.56 5.44l.94 2.06.94-2.06 2.06-.94-2.06-.94-.94-2.06-.94 2.06-2.06.94zm-11 1L8.5 8.5l.94-2.06 2.06-.94-2.06-.94L8.5 2.5l-.94 2.06-2.06.94zm10 10l.94 2.06.94-2.06 2.06-.94-2.06-.94-.94-2.06-.94 2.06-2.06.94z\"/><path d=\"M17.41 7.96l-1.37-1.37c-.4-.4-.92-.59-1.43-.59-.52 0-1.04.2-1.43.59L10.3 9.45l-7.72 7.72c-.78.78-.78 2.05 0 2.83L4 21.41c.39.39.9.59 1.41.59.51 0 1.02-.2 1.41-.59l7.78-7.78 2.81-2.81c.8-.78.8-2.07 0-2.86zM5.41 20L4 18.59l7.72-7.72 1.47 1.35L5.41 20z\"/>\n",
              "  </svg>\n",
              "      </button>\n",
              "      \n",
              "  <style>\n",
              "    .colab-df-container {\n",
              "      display:flex;\n",
              "      flex-wrap:wrap;\n",
              "      gap: 12px;\n",
              "    }\n",
              "\n",
              "    .colab-df-convert {\n",
              "      background-color: #E8F0FE;\n",
              "      border: none;\n",
              "      border-radius: 50%;\n",
              "      cursor: pointer;\n",
              "      display: none;\n",
              "      fill: #1967D2;\n",
              "      height: 32px;\n",
              "      padding: 0 0 0 0;\n",
              "      width: 32px;\n",
              "    }\n",
              "\n",
              "    .colab-df-convert:hover {\n",
              "      background-color: #E2EBFA;\n",
              "      box-shadow: 0px 1px 2px rgba(60, 64, 67, 0.3), 0px 1px 3px 1px rgba(60, 64, 67, 0.15);\n",
              "      fill: #174EA6;\n",
              "    }\n",
              "\n",
              "    [theme=dark] .colab-df-convert {\n",
              "      background-color: #3B4455;\n",
              "      fill: #D2E3FC;\n",
              "    }\n",
              "\n",
              "    [theme=dark] .colab-df-convert:hover {\n",
              "      background-color: #434B5C;\n",
              "      box-shadow: 0px 1px 3px 1px rgba(0, 0, 0, 0.15);\n",
              "      filter: drop-shadow(0px 1px 2px rgba(0, 0, 0, 0.3));\n",
              "      fill: #FFFFFF;\n",
              "    }\n",
              "  </style>\n",
              "\n",
              "      <script>\n",
              "        const buttonEl =\n",
              "          document.querySelector('#df-1d4a47ea-fee9-4f32-ad9e-0f2c47af42c4 button.colab-df-convert');\n",
              "        buttonEl.style.display =\n",
              "          google.colab.kernel.accessAllowed ? 'block' : 'none';\n",
              "\n",
              "        async function convertToInteractive(key) {\n",
              "          const element = document.querySelector('#df-1d4a47ea-fee9-4f32-ad9e-0f2c47af42c4');\n",
              "          const dataTable =\n",
              "            await google.colab.kernel.invokeFunction('convertToInteractive',\n",
              "                                                     [key], {});\n",
              "          if (!dataTable) return;\n",
              "\n",
              "          const docLinkHtml = 'Like what you see? Visit the ' +\n",
              "            '<a target=\"_blank\" href=https://colab.research.google.com/notebooks/data_table.ipynb>data table notebook</a>'\n",
              "            + ' to learn more about interactive tables.';\n",
              "          element.innerHTML = '';\n",
              "          dataTable['output_type'] = 'display_data';\n",
              "          await google.colab.output.renderOutput(dataTable, element);\n",
              "          const docLink = document.createElement('div');\n",
              "          docLink.innerHTML = docLinkHtml;\n",
              "          element.appendChild(docLink);\n",
              "        }\n",
              "      </script>\n",
              "    </div>\n",
              "  </div>\n",
              "  "
            ]
          },
          "metadata": {},
          "execution_count": 69
        }
      ]
    },
    {
      "cell_type": "markdown",
      "source": [
        "# All about the 'words to numbers'"
      ],
      "metadata": {
        "id": "uv8BrJor4-wX"
      }
    },
    {
      "cell_type": "markdown",
      "source": [
        "## Tokenize the sentences"
      ],
      "metadata": {
        "id": "reEyvMF6nXzj"
      }
    },
    {
      "cell_type": "markdown",
      "source": [
        "Machine likes numbers. So, convert the words to numbers. Here, each unique word is assigned a token number. See word_index from the next cell, to find the dictionary of unique words and their corresponding token."
      ],
      "metadata": {
        "id": "-KVDpCS4nbeO"
      }
    },
    {
      "cell_type": "code",
      "source": [
        "import tensorflow as tf\n",
        "from tensorflow import keras\n",
        "from keras.preprocessing.text import Tokenizer\n",
        "\n",
        "tokenizer = Tokenizer(oov_token='<OOV>')\n",
        "tokenizer.fit_on_texts(amazon_filtered_df.iloc[:,0].tolist())\n",
        "words_to_numbers = tokenizer.texts_to_sequences(amazon_filtered_df.iloc[:,0].tolist())\n"
      ],
      "metadata": {
        "id": "JYmnzrZT8YOY"
      },
      "execution_count": 70,
      "outputs": []
    },
    {
      "cell_type": "markdown",
      "source": [
        "## DL model creation, compile, fit"
      ],
      "metadata": {
        "id": "mS0SYU4LntqQ"
      }
    },
    {
      "cell_type": "code",
      "source": [
        "from keras.utils import pad_sequences\n",
        "\n",
        "padded_words_to_numbers = pad_sequences(words_to_numbers, padding = 'post')\n",
        "padded_sentiments = amazon_filtered_df.iloc[:,1]\n",
        "word_index = tokenizer.word_index\n",
        "vocab_size = len(word_index) + 1\n",
        "embedding_dim = 16\n",
        "input_length = padded_words_to_numbers.shape[1]\n",
        "print(input_length)\n",
        "\n",
        "from keras import Sequential, layers\n",
        "\n",
        "model = Sequential([\n",
        "                    layers.Embedding(vocab_size, embedding_dim, input_length=input_length),\n",
        "                    layers.GlobalAveragePooling1D(),\n",
        "                    layers.Dense(24, activation = 'relu'),\n",
        "                    layers.Dense(1, activation = 'sigmoid')\n",
        "                   ])\n",
        "model.summary()"
      ],
      "metadata": {
        "colab": {
          "base_uri": "https://localhost:8080/"
        },
        "id": "d8dxRzT4ApZr",
        "outputId": "d137ac98-9f4b-465a-c888-43ffeb80df3c"
      },
      "execution_count": 71,
      "outputs": [
        {
          "output_type": "stream",
          "name": "stdout",
          "text": [
            "30\n",
            "Model: \"sequential_3\"\n",
            "_________________________________________________________________\n",
            " Layer (type)                Output Shape              Param #   \n",
            "=================================================================\n",
            " embedding_6 (Embedding)     (None, 30, 16)            29856     \n",
            "                                                                 \n",
            " global_average_pooling1d_5   (None, 16)               0         \n",
            " (GlobalAveragePooling1D)                                        \n",
            "                                                                 \n",
            " dense_8 (Dense)             (None, 24)                408       \n",
            "                                                                 \n",
            " dense_9 (Dense)             (None, 1)                 25        \n",
            "                                                                 \n",
            "=================================================================\n",
            "Total params: 30,289\n",
            "Trainable params: 30,289\n",
            "Non-trainable params: 0\n",
            "_________________________________________________________________\n"
          ]
        }
      ]
    },
    {
      "cell_type": "code",
      "source": [
        "model.compile(loss='binary_crossentropy', optimizer = 'adam', metrics=['accuracy'])"
      ],
      "metadata": {
        "id": "1AApFPV6Kzp5"
      },
      "execution_count": 73,
      "outputs": []
    },
    {
      "cell_type": "markdown",
      "source": [
        "## Number of epochs = 30"
      ],
      "metadata": {
        "id": "w3C3x_cyn1_S"
      }
    },
    {
      "cell_type": "code",
      "source": [
        "num_epochs = 30\n",
        "history = model.fit(\n",
        "    padded_words_to_numbers[0:900],\n",
        "    padded_sentiments[0:900],\n",
        "    epochs=num_epochs,\n",
        "    validation_data=(padded_words_to_numbers[900:], padded_sentiments[900:])\n",
        "\n",
        ")"
      ],
      "metadata": {
        "colab": {
          "base_uri": "https://localhost:8080/"
        },
        "id": "j_6DajcjLOki",
        "outputId": "d874cdac-a671-4422-c012-3c7d692e6410"
      },
      "execution_count": 74,
      "outputs": [
        {
          "output_type": "stream",
          "name": "stdout",
          "text": [
            "Epoch 1/30\n",
            "29/29 [==============================] - 2s 23ms/step - loss: 0.6929 - accuracy: 0.5089 - val_loss: 0.6970 - val_accuracy: 0.4167\n",
            "Epoch 2/30\n",
            "29/29 [==============================] - 0s 9ms/step - loss: 0.6898 - accuracy: 0.5889 - val_loss: 0.6922 - val_accuracy: 0.4688\n",
            "Epoch 3/30\n",
            "29/29 [==============================] - 0s 10ms/step - loss: 0.6851 - accuracy: 0.5622 - val_loss: 0.6919 - val_accuracy: 0.4688\n",
            "Epoch 4/30\n",
            "29/29 [==============================] - 0s 7ms/step - loss: 0.6774 - accuracy: 0.5767 - val_loss: 0.6867 - val_accuracy: 0.5104\n",
            "Epoch 5/30\n",
            "29/29 [==============================] - 0s 8ms/step - loss: 0.6622 - accuracy: 0.6500 - val_loss: 0.6783 - val_accuracy: 0.5729\n",
            "Epoch 6/30\n",
            "29/29 [==============================] - 0s 6ms/step - loss: 0.6387 - accuracy: 0.7878 - val_loss: 0.6638 - val_accuracy: 0.6562\n",
            "Epoch 7/30\n",
            "29/29 [==============================] - 0s 5ms/step - loss: 0.6056 - accuracy: 0.8144 - val_loss: 0.6391 - val_accuracy: 0.6979\n",
            "Epoch 8/30\n",
            "29/29 [==============================] - 0s 8ms/step - loss: 0.5585 - accuracy: 0.8244 - val_loss: 0.6057 - val_accuracy: 0.8125\n",
            "Epoch 9/30\n",
            "29/29 [==============================] - 0s 7ms/step - loss: 0.5020 - accuracy: 0.9289 - val_loss: 0.5873 - val_accuracy: 0.7188\n",
            "Epoch 10/30\n",
            "29/29 [==============================] - 0s 8ms/step - loss: 0.4410 - accuracy: 0.9456 - val_loss: 0.5496 - val_accuracy: 0.7812\n",
            "Epoch 11/30\n",
            "29/29 [==============================] - 0s 7ms/step - loss: 0.3838 - accuracy: 0.9578 - val_loss: 0.5350 - val_accuracy: 0.7292\n",
            "Epoch 12/30\n",
            "29/29 [==============================] - 0s 8ms/step - loss: 0.3251 - accuracy: 0.9611 - val_loss: 0.5019 - val_accuracy: 0.7812\n",
            "Epoch 13/30\n",
            "29/29 [==============================] - 0s 5ms/step - loss: 0.2756 - accuracy: 0.9689 - val_loss: 0.4902 - val_accuracy: 0.7500\n",
            "Epoch 14/30\n",
            "29/29 [==============================] - 0s 6ms/step - loss: 0.2342 - accuracy: 0.9744 - val_loss: 0.4760 - val_accuracy: 0.7708\n",
            "Epoch 15/30\n",
            "29/29 [==============================] - 0s 9ms/step - loss: 0.1988 - accuracy: 0.9789 - val_loss: 0.4716 - val_accuracy: 0.7708\n",
            "Epoch 16/30\n",
            "29/29 [==============================] - 0s 7ms/step - loss: 0.1699 - accuracy: 0.9822 - val_loss: 0.4678 - val_accuracy: 0.7917\n",
            "Epoch 17/30\n",
            "29/29 [==============================] - 0s 6ms/step - loss: 0.1513 - accuracy: 0.9844 - val_loss: 0.4669 - val_accuracy: 0.8021\n",
            "Epoch 18/30\n",
            "29/29 [==============================] - 0s 7ms/step - loss: 0.1271 - accuracy: 0.9900 - val_loss: 0.4703 - val_accuracy: 0.7917\n",
            "Epoch 19/30\n",
            "29/29 [==============================] - 0s 9ms/step - loss: 0.1133 - accuracy: 0.9911 - val_loss: 0.4745 - val_accuracy: 0.7812\n",
            "Epoch 20/30\n",
            "29/29 [==============================] - 0s 10ms/step - loss: 0.0964 - accuracy: 0.9922 - val_loss: 0.4782 - val_accuracy: 0.7917\n",
            "Epoch 21/30\n",
            "29/29 [==============================] - 0s 4ms/step - loss: 0.0848 - accuracy: 0.9944 - val_loss: 0.4832 - val_accuracy: 0.7917\n",
            "Epoch 22/30\n",
            "29/29 [==============================] - 0s 3ms/step - loss: 0.0746 - accuracy: 0.9956 - val_loss: 0.4876 - val_accuracy: 0.8125\n",
            "Epoch 23/30\n",
            "29/29 [==============================] - 0s 4ms/step - loss: 0.0671 - accuracy: 0.9956 - val_loss: 0.4993 - val_accuracy: 0.7812\n",
            "Epoch 24/30\n",
            "29/29 [==============================] - 0s 4ms/step - loss: 0.0598 - accuracy: 0.9978 - val_loss: 0.5171 - val_accuracy: 0.7812\n",
            "Epoch 25/30\n",
            "29/29 [==============================] - 0s 4ms/step - loss: 0.0542 - accuracy: 0.9978 - val_loss: 0.5067 - val_accuracy: 0.8021\n",
            "Epoch 26/30\n",
            "29/29 [==============================] - 0s 4ms/step - loss: 0.0477 - accuracy: 0.9978 - val_loss: 0.5152 - val_accuracy: 0.8021\n",
            "Epoch 27/30\n",
            "29/29 [==============================] - 0s 5ms/step - loss: 0.0433 - accuracy: 0.9989 - val_loss: 0.5258 - val_accuracy: 0.7917\n",
            "Epoch 28/30\n",
            "29/29 [==============================] - 0s 4ms/step - loss: 0.0395 - accuracy: 0.9978 - val_loss: 0.5313 - val_accuracy: 0.7917\n",
            "Epoch 29/30\n",
            "29/29 [==============================] - 0s 4ms/step - loss: 0.0355 - accuracy: 0.9989 - val_loss: 0.5336 - val_accuracy: 0.8021\n",
            "Epoch 30/30\n",
            "29/29 [==============================] - 0s 5ms/step - loss: 0.0326 - accuracy: 0.9989 - val_loss: 0.5444 - val_accuracy: 0.8021\n"
          ]
        }
      ]
    },
    {
      "cell_type": "markdown",
      "source": [
        "## Predict the sentiment of a sentence"
      ],
      "metadata": {
        "id": "_w5bhUbyn6Zn"
      }
    },
    {
      "cell_type": "markdown",
      "source": [
        "We now create a sentence that the model has not seen before. We will see how it performs. The output will be a signmoid, that is, a value between 0 (negative) and 1 (positive). For the example, 'I like to sing and play the guitar', a sentiment value of ~0.7 is allocated, i.e., towards a positive valence."
      ],
      "metadata": {
        "id": "v6gth1yCn-vs"
      }
    },
    {
      "cell_type": "code",
      "source": [
        "sentence = [\"I like to sing and play the guitar\"]\n",
        "sentence[0]\n",
        "sequences = tokenizer.texts_to_sequences(sentence)\n",
        "padded = pad_sequences(sequences, maxlen=input_length, padding='post', truncating='post')\n",
        "padded[0].shape\n",
        "print(model.predict(padded))"
      ],
      "metadata": {
        "colab": {
          "base_uri": "https://localhost:8080/"
        },
        "id": "H_tFD-ERPfX6",
        "outputId": "eb8af529-6813-4a2a-b1a8-ffb76d15cfa5"
      },
      "execution_count": 97,
      "outputs": [
        {
          "output_type": "stream",
          "name": "stdout",
          "text": [
            "1/1 [==============================] - 0s 22ms/step\n",
            "[[0.71313125]]\n"
          ]
        }
      ]
    }
  ]
}